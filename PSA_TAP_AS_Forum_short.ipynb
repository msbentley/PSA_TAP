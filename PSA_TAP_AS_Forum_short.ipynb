{
 "cells": [
  {
   "cell_type": "markdown",
   "metadata": {
    "slideshow": {
     "slide_type": "slide"
    }
   },
   "source": [
    "# Data exploration in the PSA with EPN-TAP\n",
    "- EPN-TAP is a Europlanet extension of TAP for planetary science\n",
    "- Remember: the PSA is intrisincally multi-mission, multi-instrument archive\n",
    "- The PSA supports access to products via EPN-TAP\n",
    "  - EPN-TAP allows queries to the database not possible with other interfaces\n",
    "- The PSA TAP database offers a _catalogue_ of data products, not the data themselves\n",
    "- Data in the PSA are archived in [PDS](https://pds.nasa.gov/) format\n",
    "    - each archive item consists of product + label\n",
    "        - PDS3 = previous standard (labels in PVL)\n",
    "        - PDS4 = current standard (labels in XML)\n",
    "- PSA data are highly diverse\n",
    "    - from microscope to telescopes\n",
    "    - on orbiters, flyby missions, landers etc.\n",
    "- The PSA supports versioning of products/datasets and private data\n",
    "    - PSA EPN-TAP shows only the latest version\n",
    "    - Meta-data for private data are shown, but no detailed info\n",
    "        - so calculations of product _size_ apply only to public data, for example\n",
    "- EPN-TAP indexes __only__ the data/observational products\n",
    "    - not calibration files, documents, ancillary products etc."
   ]
  },
  {
   "cell_type": "code",
   "execution_count": 2,
   "metadata": {
    "code_folding": [],
    "jupyter": {
     "source_hidden": true
    },
    "slideshow": {
     "slide_type": "slide"
    }
   },
   "outputs": [],
   "source": [
    "import zipfile, struct, warnings, requests, struct, os\n",
    "from pathlib import PurePath\n",
    "from io import BytesIO\n",
    "\n",
    "import numpy as np\n",
    "import pandas as pd\n",
    "import matplotlib\n",
    "import matplotlib.pyplot as plt\n",
    "\n",
    "import astropy, skimage\n",
    "from astropy.io.votable import parse_single_table\n",
    "from astroquery.utils.tap.core import Tap\n",
    "import pvl\n",
    "\n",
    "from pds4_tools import read\n",
    "\n",
    "import IPython.display as display\n",
    "from PIL import Image\n",
    "\n",
    "%matplotlib inline\n",
    "warnings.simplefilter('ignore')"
   ]
  },
  {
   "cell_type": "markdown",
   "metadata": {},
   "source": [
    "Point the astroquery TAP library to the PSA EPN-TAP server"
   ]
  },
  {
   "cell_type": "code",
   "execution_count": 3,
   "metadata": {
    "slideshow": {
     "slide_type": "slide"
    }
   },
   "outputs": [],
   "source": [
    "tap_url = 'https://archives.esac.esa.int/psa/epn-tap/tap/'\n",
    "psa = Tap(url=tap_url)\n",
    "\n",
    "def query(q):\n",
    "    return(psa.launch_job(q).get_data())"
   ]
  },
  {
   "cell_type": "markdown",
   "metadata": {
    "slideshow": {
     "slide_type": "slide"
    }
   },
   "source": [
    "## PSA data exploration\n",
    "\n",
    "Run some simple queries to get some statistics about the data in the PSA"
   ]
  },
  {
   "cell_type": "markdown",
   "metadata": {},
   "source": [
    "### How many missions does the PSA serve?"
   ]
  },
  {
   "cell_type": "code",
   "execution_count": 4,
   "metadata": {},
   "outputs": [
    {
     "data": {
      "text/html": [
       "<i>Table masked=True length=10</i>\n",
       "<table id=\"table139979526576616\" class=\"table-striped table-bordered table-condensed\">\n",
       "<thead><tr><th>instrument_host_name</th></tr></thead>\n",
       "<thead><tr><th>object</th></tr></thead>\n",
       "<tr><td>Huygens</td></tr>\n",
       "<tr><td>Venus Express</td></tr>\n",
       "<tr><td>Mars Express</td></tr>\n",
       "<tr><td>BepiColombo</td></tr>\n",
       "<tr><td>Giotto</td></tr>\n",
       "<tr><td>Ground Based</td></tr>\n",
       "<tr><td>ExoMars 2016</td></tr>\n",
       "<tr><td>Hubble</td></tr>\n",
       "<tr><td>SMART-1</td></tr>\n",
       "<tr><td>Rosetta</td></tr>\n",
       "</table>"
      ],
      "text/plain": [
       "<Table masked=True length=10>\n",
       "instrument_host_name\n",
       "       object       \n",
       "--------------------\n",
       "             Huygens\n",
       "       Venus Express\n",
       "        Mars Express\n",
       "         BepiColombo\n",
       "              Giotto\n",
       "        Ground Based\n",
       "        ExoMars 2016\n",
       "              Hubble\n",
       "             SMART-1\n",
       "             Rosetta"
      ]
     },
     "execution_count": 4,
     "metadata": {},
     "output_type": "execute_result"
    }
   ],
   "source": [
    "query('SELECT DISTINCT instrument_host_name FROM epn_core')"
   ]
  },
  {
   "cell_type": "markdown",
   "metadata": {},
   "source": [
    "### ...and how many instruments?"
   ]
  },
  {
   "cell_type": "code",
   "execution_count": 8,
   "metadata": {},
   "outputs": [
    {
     "data": {
      "text/plain": [
       "78"
      ]
     },
     "execution_count": 8,
     "metadata": {},
     "output_type": "execute_result"
    }
   ],
   "source": [
    "len(query('SELECT DISTINCT instrument_name FROM epn_core'))"
   ]
  },
  {
   "cell_type": "markdown",
   "metadata": {
    "slideshow": {
     "slide_type": "slide"
    }
   },
   "source": [
    "### How many products are there in the archive?"
   ]
  },
  {
   "cell_type": "code",
   "execution_count": 6,
   "metadata": {
    "slideshow": {
     "slide_type": "fragment"
    }
   },
   "outputs": [
    {
     "data": {
      "text/plain": [
       "9557830"
      ]
     },
     "execution_count": 6,
     "metadata": {},
     "output_type": "execute_result"
    }
   ],
   "source": [
    "result = query('SELECT COUNT(1) from epn_core')\n",
    "result['count'][0]"
   ]
  },
  {
   "cell_type": "markdown",
   "metadata": {},
   "source": [
    "### How many products are there per mission?"
   ]
  },
  {
   "cell_type": "code",
   "execution_count": null,
   "metadata": {},
   "outputs": [],
   "source": [
    " query('SELECT instrument_host_name, count(*) as num_prod FROM epn_core GROUP BY instrument_host_name ORDER BY num_prod DESC')"
   ]
  },
  {
   "cell_type": "markdown",
   "metadata": {},
   "source": [
    "### And how *much* data (in TB)?"
   ]
  },
  {
   "cell_type": "code",
   "execution_count": null,
   "metadata": {},
   "outputs": [],
   "source": [
    "result = query('SELECT SUM(access_estsize) from epn_core') # in kbyte\n",
    "print('Size of latest versions of public data: {:3.2f} TB'.format(result['sum'][0]/1024.**3))"
   ]
  },
  {
   "cell_type": "markdown",
   "metadata": {},
   "source": [
    "### What are the biggest products?"
   ]
  },
  {
   "cell_type": "code",
   "execution_count": null,
   "metadata": {},
   "outputs": [],
   "source": [
    "query('SELECT TOP 10 granule_uid, access_estsize from epn_core WHERE access_estsize IS NOT NULL ORDER BY access_estsize DESC')"
   ]
  },
  {
   "cell_type": "markdown",
   "metadata": {},
   "source": [
    "### Which mission has the most data?"
   ]
  },
  {
   "cell_type": "code",
   "execution_count": null,
   "metadata": {},
   "outputs": [],
   "source": [
    "query('SELECT instrument_host_name, sum(access_estsize)/1024./1024. as prod_size from epn_core WHERE access_estsize IS NOT NULL GROUP BY instrument_host_name ORDER BY prod_size DESC')"
   ]
  },
  {
   "cell_type": "markdown",
   "metadata": {},
   "source": [
    "Wow, so the top two missions account for almost all of the data in the archive:"
   ]
  },
  {
   "cell_type": "markdown",
   "metadata": {
    "slideshow": {
     "slide_type": "slide"
    }
   },
   "source": [
    "### How many different targets are there in the archive?"
   ]
  },
  {
   "cell_type": "code",
   "execution_count": null,
   "metadata": {
    "slideshow": {
     "slide_type": "fragment"
    }
   },
   "outputs": [],
   "source": [
    "query('SELECT DISTINCT target_name FROM epn_core')"
   ]
  },
  {
   "cell_type": "markdown",
   "metadata": {},
   "source": [
    "# Diving into the data"
   ]
  },
  {
   "cell_type": "markdown",
   "metadata": {
    "slideshow": {
     "slide_type": "slide"
    }
   },
   "source": [
    "## OK, what data do we have about Mars - show me the missions!"
   ]
  },
  {
   "cell_type": "code",
   "execution_count": null,
   "metadata": {
    "slideshow": {
     "slide_type": "fragment"
    }
   },
   "outputs": [],
   "source": [
    "query(\"SELECT DISTINCT instrument_host_name FROM epn_core WHERE target_name='Mars'\")"
   ]
  },
  {
   "cell_type": "markdown",
   "metadata": {
    "slideshow": {
     "slide_type": "slide"
    }
   },
   "source": [
    "## Interesting - Rosetta observed Mars! With which instruments?"
   ]
  },
  {
   "cell_type": "code",
   "execution_count": null,
   "metadata": {
    "slideshow": {
     "slide_type": "fragment"
    }
   },
   "outputs": [],
   "source": [
    "query(\"SELECT DISTINCT instrument_name FROM epn_core WHERE target_name='Mars' AND instrument_host_name='Rosetta'\")"
   ]
  },
  {
   "cell_type": "markdown",
   "metadata": {
    "slideshow": {
     "slide_type": "slide"
    }
   },
   "source": [
    "## OSIRIS is the camera, right? What data did it produce?"
   ]
  },
  {
   "cell_type": "code",
   "execution_count": null,
   "metadata": {
    "scrolled": true,
    "slideshow": {
     "slide_type": "fragment"
    }
   },
   "outputs": [],
   "source": [
    "osiris_mars = query(\"SELECT * FROM epn_core WHERE target_name='Mars' AND instrument_name='OSIRIS'\")\n",
    "len(osiris_mars)"
   ]
  },
  {
   "cell_type": "code",
   "execution_count": null,
   "metadata": {},
   "outputs": [],
   "source": [
    "osiris_mars.colnames"
   ]
  },
  {
   "cell_type": "code",
   "execution_count": null,
   "metadata": {},
   "outputs": [],
   "source": [
    "osiris_mars[0]"
   ]
  },
  {
   "cell_type": "markdown",
   "metadata": {
    "slideshow": {
     "slide_type": "slide"
    }
   },
   "source": [
    "## Let's just tidy that up a bit\n",
    "\n",
    "- Putting the table into pandas since I'm more comfortable with it\n",
    "- There are lots of columns with \"Nan\"s because not all fields can be (easily) populated due to the diverse nature of the instruments\n",
    "    - remove those \n",
    "- convert Julian times into readable timestamps\n",
    "- resulting function: query_pandas(query)"
   ]
  },
  {
   "cell_type": "code",
   "execution_count": null,
   "metadata": {
    "jupyter": {
     "source_hidden": true
    },
    "slideshow": {
     "slide_type": "fragment"
    }
   },
   "outputs": [],
   "source": [
    "def query_pandas(q):\n",
    "    df = query(q).to_pandas()\n",
    "    df.dropna(axis=1, how='all', inplace=True)\n",
    "    str_df = df.select_dtypes([np.object])\n",
    "    if not str_df.empty:\n",
    "        str_df = str_df.stack().str.decode('utf-8').unstack()\n",
    "        for col in str_df:\n",
    "            df[col] = str_df[col]        \n",
    "    df['time_min'] = pd.to_datetime(df['time_min'], origin='julian', unit='D') \n",
    "    df['time_max'] = pd.to_datetime(df['time_max'], origin='julian', unit='D') \n",
    "    return df"
   ]
  },
  {
   "cell_type": "code",
   "execution_count": null,
   "metadata": {},
   "outputs": [],
   "source": [
    "osiris_mars = query_pandas(\"SELECT * FROM epn_core WHERE target_name='Mars' AND instrument_name='OSIRIS'\")"
   ]
  },
  {
   "cell_type": "markdown",
   "metadata": {},
   "source": [
    "Now we have all of the fields that have populated values in this query - let's look at the first row:"
   ]
  },
  {
   "cell_type": "code",
   "execution_count": null,
   "metadata": {
    "slideshow": {
     "slide_type": "slide"
    }
   },
   "outputs": [],
   "source": [
    "osiris_mars.iloc[0]"
   ]
  },
  {
   "cell_type": "markdown",
   "metadata": {
    "slideshow": {
     "slide_type": "fragment"
    }
   },
   "source": [
    "Ahh, thumbnails are provided!\n",
    "\n",
    "Great, I don't have to work hard to get a sneak preview! Let's look at an example - we can show images directly in the Notebook:"
   ]
  },
  {
   "cell_type": "code",
   "execution_count": null,
   "metadata": {},
   "outputs": [],
   "source": [
    "osiris_mars.iloc[0].thumbnail_url"
   ]
  },
  {
   "cell_type": "code",
   "execution_count": null,
   "metadata": {
    "slideshow": {
     "slide_type": "slide"
    }
   },
   "outputs": [],
   "source": [
    "display.Image(osiris_mars.thumbnail_url.iloc[0], width=500, embed=True)"
   ]
  },
  {
   "cell_type": "markdown",
   "metadata": {},
   "source": [
    "We can also grab a bunch of images and show them using matplotlib (easier to tile etc.). Let's take the first 9:"
   ]
  },
  {
   "cell_type": "markdown",
   "metadata": {
    "slideshow": {
     "slide_type": "slide"
    }
   },
   "source": [
    "## Let's get the _real_ data for that image"
   ]
  },
  {
   "cell_type": "markdown",
   "metadata": {
    "slideshow": {
     "slide_type": "slide"
    }
   },
   "source": [
    "I have a URL for direct access, and a format - which the MIME code tell me is a zip."
   ]
  },
  {
   "cell_type": "code",
   "execution_count": null,
   "metadata": {
    "slideshow": {
     "slide_type": "fragment"
    }
   },
   "outputs": [],
   "source": [
    "access_url = osiris_mars.iloc[0].access_url\n",
    "access_url"
   ]
  },
  {
   "cell_type": "markdown",
   "metadata": {
    "slideshow": {
     "slide_type": "fragment"
    }
   },
   "source": [
    "Let's download the zip on the fly and see what's in it..."
   ]
  },
  {
   "cell_type": "code",
   "execution_count": null,
   "metadata": {
    "slideshow": {
     "slide_type": "fragment"
    }
   },
   "outputs": [],
   "source": [
    "r = requests.get(url=access_url)\n",
    "zip = zipfile.ZipFile(BytesIO(r.content))\n",
    "zipfiles = zip.namelist()\n",
    "zipfiles"
   ]
  },
  {
   "cell_type": "markdown",
   "metadata": {
    "slideshow": {
     "slide_type": "fragment"
    }
   },
   "source": [
    "So the product actually consists of the image file with attached label, and a browse product. We need to get the file in the DATA directory to work with the actual data...\n"
   ]
  },
  {
   "cell_type": "code",
   "execution_count": null,
   "metadata": {},
   "outputs": [],
   "source": [
    "data_file = [file for file in zipfiles[:-1] if PurePath(file).parts[1]=='DATA'][0]\n",
    "data_file"
   ]
  },
  {
   "cell_type": "markdown",
   "metadata": {
    "slideshow": {
     "slide_type": "slide"
    }
   },
   "source": [
    "Ooh, attached PDS3 labels are nasty - I picked a bad example! Still, we can deal with it - find the label length by parsing until we hit \"END\" in function read_label()"
   ]
  },
  {
   "cell_type": "code",
   "execution_count": null,
   "metadata": {
    "jupyter": {
     "source_hidden": true
    },
    "slideshow": {
     "slide_type": "fragment"
    }
   },
   "outputs": [],
   "source": [
    "def read_label(data_file):\n",
    "    label = []\n",
    "    with zip.open(data_file) as f:  \n",
    "        line = f.readline().decode('utf8')\n",
    "        while line.strip() != 'END':\n",
    "            if line.strip() == '':\n",
    "                line = f.readline().decode('utf8')\n",
    "                continue\n",
    "            else:\n",
    "                label.append(line.strip())\n",
    "                line = f.readline().decode('utf8')\n",
    "            \n",
    "    return '\\r\\n'.join(label)"
   ]
  },
  {
   "cell_type": "code",
   "execution_count": null,
   "metadata": {},
   "outputs": [],
   "source": [
    "label = read_label(data_file)"
   ]
  },
  {
   "cell_type": "markdown",
   "metadata": {
    "slideshow": {
     "slide_type": "fragment"
    }
   },
   "source": [
    "PDS3 labels are stored in \"Parameter Value Language\" (PVL) which we can pass to get a dictionary..."
   ]
  },
  {
   "cell_type": "code",
   "execution_count": null,
   "metadata": {
    "slideshow": {
     "slide_type": "slide"
    }
   },
   "outputs": [],
   "source": [
    "meta = pvl.loads(label)\n",
    "meta"
   ]
  },
  {
   "cell_type": "markdown",
   "metadata": {
    "slideshow": {
     "slide_type": "fragment"
    }
   },
   "source": [
    "Oof, that's a lot of meta-data! Now we have all of the PDS3 meta-data ready to be used. We can use the IMAGE pointer to tell us where to get the actual image array"
   ]
  },
  {
   "cell_type": "code",
   "execution_count": null,
   "metadata": {
    "slideshow": {
     "slide_type": "fragment"
    }
   },
   "outputs": [],
   "source": [
    "offset = (meta['^IMAGE']-1) * meta['RECORD_BYTES']\n",
    "offset"
   ]
  },
  {
   "cell_type": "markdown",
   "metadata": {
    "slideshow": {
     "slide_type": "slide"
    }
   },
   "source": [
    "But we need a bit more meta-data to open it correctly..."
   ]
  },
  {
   "cell_type": "code",
   "execution_count": null,
   "metadata": {
    "slideshow": {
     "slide_type": "fragment"
    }
   },
   "outputs": [],
   "source": [
    "meta['IMAGE']"
   ]
  },
  {
   "cell_type": "code",
   "execution_count": null,
   "metadata": {
    "slideshow": {
     "slide_type": "fragment"
    }
   },
   "outputs": [],
   "source": [
    "rows = meta['IMAGE']['LINES']\n",
    "cols = meta['IMAGE']['LINE_SAMPLES']\n",
    "samples = rows * cols"
   ]
  },
  {
   "cell_type": "markdown",
   "metadata": {
    "slideshow": {
     "slide_type": "slide"
    }
   },
   "source": [
    "OK, how we have enough to unpack the data!"
   ]
  },
  {
   "cell_type": "code",
   "execution_count": null,
   "metadata": {
    "slideshow": {
     "slide_type": "fragment"
    }
   },
   "outputs": [],
   "source": [
    "data = struct.unpack_from('<%dH' % samples, zip.open(data_file).read(), offset)\n",
    "data = np.array(data).reshape((cols, rows))"
   ]
  },
  {
   "cell_type": "markdown",
   "metadata": {},
   "source": [
    "and plot them:"
   ]
  },
  {
   "cell_type": "code",
   "execution_count": null,
   "metadata": {
    "slideshow": {
     "slide_type": "slide"
    }
   },
   "outputs": [],
   "source": [
    "fig, ax = plt.subplots(figsize=(14,14))\n",
    "im = ax.imshow(data, cmap=matplotlib.cm.gray, interpolation='nearest')"
   ]
  },
  {
   "cell_type": "markdown",
   "metadata": {
    "slideshow": {
     "slide_type": "slide"
    }
   },
   "source": [
    "Check the minimum, maximum and mean values to compare with the label:"
   ]
  },
  {
   "cell_type": "code",
   "execution_count": null,
   "metadata": {
    "slideshow": {
     "slide_type": "fragment"
    }
   },
   "outputs": [],
   "source": [
    "meta['IMAGE']['DERIVED_MINIMUM'], meta['IMAGE']['DERIVED_MAXIMUM'], meta['IMAGE']['MEAN']"
   ]
  },
  {
   "cell_type": "code",
   "execution_count": null,
   "metadata": {
    "slideshow": {
     "slide_type": "fragment"
    }
   },
   "outputs": [],
   "source": [
    "data.min(), data.max(), data.mean()"
   ]
  },
  {
   "cell_type": "markdown",
   "metadata": {
    "slideshow": {
     "slide_type": "slide"
    }
   },
   "source": [
    "Now we have the real data, not just a preview, and can try things like histograms"
   ]
  },
  {
   "cell_type": "code",
   "execution_count": null,
   "metadata": {
    "jupyter": {
     "source_hidden": true
    },
    "slideshow": {
     "slide_type": "fragment"
    }
   },
   "outputs": [],
   "source": [
    "fig_hist, ax_hist = plt.subplots(figsize=(14,10))\n",
    "ax_hist.hist(data.ravel(), bins=256, histtype='step', color='black')\n",
    "ax_hist.ticklabel_format(axis='y', style='scientific', scilimits=(0, 0))\n",
    "ax_hist.set_xlabel('Pixel intensity')\n",
    "ax_hist.set_yticks([]);"
   ]
  },
  {
   "cell_type": "markdown",
   "metadata": {
    "slideshow": {
     "slide_type": "slide"
    }
   },
   "source": [
    "Now we can play with things like adaptive histogram equalisation:"
   ]
  },
  {
   "cell_type": "code",
   "execution_count": null,
   "metadata": {
    "slideshow": {
     "slide_type": "fragment"
    }
   },
   "outputs": [],
   "source": [
    "img_adapteq = skimage.exposure.equalize_adapthist(data, clip_limit=0.03)\n",
    "fig, ax = plt.subplots(figsize=(14,14))\n",
    "im = ax.imshow(img_adapteq, cmap=matplotlib.cm.gray, interpolation='nearest')"
   ]
  },
  {
   "cell_type": "markdown",
   "metadata": {},
   "source": [
    "# PDS4"
   ]
  },
  {
   "cell_type": "markdown",
   "metadata": {},
   "source": [
    "Can we check if a data product is PDS3 or PDS4 in advance? Kind of... The granule_gid for PDS4 products will always start \"urn:esa:psa\" - this is the prefix of the LID (logical identifier) in PDS4. For PDS3 this attribute will start with the dataset name. Let's see which missions produce which data type:"
   ]
  },
  {
   "cell_type": "code",
   "execution_count": null,
   "metadata": {},
   "outputs": [],
   "source": [
    "query(\"SELECT DISTINCT instrument_host_name from epn_core WHERE granule_gid LIKE 'urn:esa:psa:%'\")"
   ]
  },
  {
   "cell_type": "code",
   "execution_count": null,
   "metadata": {},
   "outputs": [],
   "source": [
    "query(\"SELECT DISTINCT instrument_host_name from epn_core WHERE granule_gid NOT LIKE 'urn:esa:psa:%'\")"
   ]
  },
  {
   "cell_type": "markdown",
   "metadata": {},
   "source": [
    "PDS4 data are easier to work with since we have nice tools that work on all valid products. Let's see if BepiColombo has any public data - we can check if data are public by seeing if they have a download URL:"
   ]
  },
  {
   "cell_type": "code",
   "execution_count": null,
   "metadata": {},
   "outputs": [],
   "source": [
    "query(\"SELECT DISTINCT instrument_name from epn_core WHERE instrument_host_name='BepiColombo' and access_url IS NOT NULL\")"
   ]
  },
  {
   "cell_type": "markdown",
   "metadata": {},
   "source": [
    "OK, the monitoring camera has public data - let's take a look!"
   ]
  },
  {
   "cell_type": "code",
   "execution_count": null,
   "metadata": {},
   "outputs": [],
   "source": [
    "mcam = query_pandas(\"SELECT * from epn_core WHERE instrument_name='MCAM' and access_url IS NOT NULL\")\n",
    "len(mcam)"
   ]
  },
  {
   "cell_type": "code",
   "execution_count": null,
   "metadata": {},
   "outputs": [],
   "source": [
    "mcam.iloc[-1]"
   ]
  },
  {
   "cell_type": "markdown",
   "metadata": {},
   "source": [
    "BepiColombo is using the PSA as an \"operational\" archive, and the MCAM data are made public ~a week after they hit the ground, so the last public data are only ~10 days old..."
   ]
  },
  {
   "cell_type": "code",
   "execution_count": null,
   "metadata": {},
   "outputs": [],
   "source": [
    "r = requests.get(url=mcam.iloc[-1].access_url)\n",
    "zip = zipfile.ZipFile(BytesIO(r.content))\n",
    "zipfiles = zip.namelist()\n",
    "zipfiles"
   ]
  },
  {
   "cell_type": "markdown",
   "metadata": {},
   "source": [
    "Here we get the browse image, and a FITS file with the data. We could access this with a FITS library, but since it is fully described by a PDS4 label, we can also use a PDS4 viewer, which would work on _any_ PDS4 product. Reading only the fly is a bit messy, so here I will just extract the files locally:"
   ]
  },
  {
   "cell_type": "code",
   "execution_count": null,
   "metadata": {},
   "outputs": [],
   "source": [
    "zip.extract(zipfiles[0])\n",
    "zip.extract(zipfiles[1])"
   ]
  },
  {
   "cell_type": "markdown",
   "metadata": {},
   "source": [
    "Point the PDS4 reader at the label and you will get all of the data structures returned:"
   ]
  },
  {
   "cell_type": "code",
   "execution_count": null,
   "metadata": {},
   "outputs": [],
   "source": [
    "mcam_data = read(zipfiles[0])"
   ]
  },
  {
   "cell_type": "code",
   "execution_count": null,
   "metadata": {},
   "outputs": [],
   "source": [
    "mcam_data.info()"
   ]
  },
  {
   "cell_type": "markdown",
   "metadata": {},
   "source": [
    "Now we can simply plot the data from the Array_2D_Image structure:"
   ]
  },
  {
   "cell_type": "code",
   "execution_count": null,
   "metadata": {},
   "outputs": [],
   "source": [
    "fig, ax = plt.subplots(figsize=(14,14))\n",
    "im = ax.imshow(mcam_data['MCAM_image'].data, cmap=matplotlib.cm.gray, interpolation='nearest', origin='top')"
   ]
  },
  {
   "cell_type": "code",
   "execution_count": null,
   "metadata": {},
   "outputs": [],
   "source": []
  }
 ],
 "metadata": {
  "hide_input": false,
  "kernelspec": {
   "display_name": "Python [conda env:psa]",
   "language": "python",
   "name": "conda-env-psa-py"
  },
  "language_info": {
   "codemirror_mode": {
    "name": "ipython",
    "version": 3
   },
   "file_extension": ".py",
   "mimetype": "text/x-python",
   "name": "python",
   "nbconvert_exporter": "python",
   "pygments_lexer": "ipython3",
   "version": "3.6.7"
  },
  "latex_envs": {
   "LaTeX_envs_menu_present": true,
   "autocomplete": true,
   "bibliofile": "biblio.bib",
   "cite_by": "apalike",
   "current_citInitial": 1,
   "eqLabelWithNumbers": true,
   "eqNumInitial": 1,
   "hotkeys": {
    "equation": "Ctrl-E",
    "itemize": "Ctrl-I"
   },
   "labels_anchors": false,
   "latex_user_defs": false,
   "report_style_numbering": false,
   "user_envs_cfg": false
  },
  "toc": {
   "nav_menu": {
    "height": "489px",
    "width": "275px"
   },
   "number_sections": true,
   "sideBar": true,
   "skip_h1_title": false,
   "title_cell": "Table of Contents",
   "title_sidebar": "Contents",
   "toc_cell": false,
   "toc_position": {
    "height": "928px",
    "left": "4px",
    "right": "20px",
    "top": "104px",
    "width": "307px"
   },
   "toc_section_display": true,
   "toc_window_display": false
  },
  "varInspector": {
   "cols": {
    "lenName": 16,
    "lenType": 16,
    "lenVar": 40
   },
   "kernels_config": {
    "python": {
     "delete_cmd_postfix": "",
     "delete_cmd_prefix": "del ",
     "library": "var_list.py",
     "varRefreshCmd": "print(var_dic_list())"
    },
    "r": {
     "delete_cmd_postfix": ") ",
     "delete_cmd_prefix": "rm(",
     "library": "var_list.r",
     "varRefreshCmd": "cat(var_dic_list()) "
    }
   },
   "types_to_exclude": [
    "module",
    "function",
    "builtin_function_or_method",
    "instance",
    "_Feature"
   ],
   "window_display": false
  },
  "widgets": {
   "state": {
    "d7e7d5275bdf43538d18e5cea11234d8": {
     "views": [
      {
       "cell_index": 10
      }
     ]
    }
   },
   "version": "1.2.0"
  }
 },
 "nbformat": 4,
 "nbformat_minor": 4
}
